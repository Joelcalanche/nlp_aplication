{
 "cells": [
  {
   "cell_type": "code",
   "execution_count": 2,
   "id": "scientific-weapon",
   "metadata": {},
   "outputs": [
    {
     "data": {
      "text/html": [
       "<div>\n",
       "<style scoped>\n",
       "    .dataframe tbody tr th:only-of-type {\n",
       "        vertical-align: middle;\n",
       "    }\n",
       "\n",
       "    .dataframe tbody tr th {\n",
       "        vertical-align: top;\n",
       "    }\n",
       "\n",
       "    .dataframe thead th {\n",
       "        text-align: right;\n",
       "    }\n",
       "</style>\n",
       "<table border=\"1\" class=\"dataframe\">\n",
       "  <thead>\n",
       "    <tr style=\"text-align: right;\">\n",
       "      <th></th>\n",
       "      <th>date_</th>\n",
       "      <th>title</th>\n",
       "      <th>link</th>\n",
       "      <th>text_</th>\n",
       "      <th>timestamps_</th>\n",
       "    </tr>\n",
       "  </thead>\n",
       "  <tbody>\n",
       "    <tr>\n",
       "      <th>35</th>\n",
       "      <td>Posted at 19:31 14 Dec</td>\n",
       "      <td>Climate activists vow to continue breaking law</td>\n",
       "      <td>https://www.bbc.com/news/uk-england-59651548</td>\n",
       "      <td>Anglican priest Rev Sue Parfitt tells a court ...</td>\n",
       "      <td>2021-12-24 15:26:00.163228</td>\n",
       "    </tr>\n",
       "    <tr>\n",
       "      <th>36</th>\n",
       "      <td>Posted at 15:05 14 Dec</td>\n",
       "      <td>Arctic heat record is like Mediterranean, says UN</td>\n",
       "      <td>https://www.bbc.com/news/science-environment-5...</td>\n",
       "      <td>The highest temperature recorded in the region...</td>\n",
       "      <td>2021-12-24 15:26:00.163228</td>\n",
       "    </tr>\n",
       "    <tr>\n",
       "      <th>37</th>\n",
       "      <td>Posted at 1:14 14 Dec</td>\n",
       "      <td>How to make electricity for your neighbours</td>\n",
       "      <td>https://www.bbc.com/news/stories-59635134</td>\n",
       "      <td>Video contentVideo caption: Sick of waiting fo...</td>\n",
       "      <td>2021-12-24 15:26:00.163228</td>\n",
       "    </tr>\n",
       "    <tr>\n",
       "      <th>38</th>\n",
       "      <td>Posted at 20:44 13 Dec</td>\n",
       "      <td>Antarctic glacier heading for dramatic change</td>\n",
       "      <td>https://www.bbc.com/news/science-environment-5...</td>\n",
       "      <td>By Jonathan AmosBBC Science CorrespondentScien...</td>\n",
       "      <td>2021-12-24 15:26:00.163228</td>\n",
       "    </tr>\n",
       "    <tr>\n",
       "      <th>39</th>\n",
       "      <td>Posted at 19:09 13 Dec</td>\n",
       "      <td>Are deadly US tornadoes due to climate change?</td>\n",
       "      <td>https://www.bbc.com/news/59641376</td>\n",
       "      <td>Are tornadoes becoming more frequent, dangerou...</td>\n",
       "      <td>2021-12-24 15:26:00.163228</td>\n",
       "    </tr>\n",
       "  </tbody>\n",
       "</table>\n",
       "</div>"
      ],
      "text/plain": [
       "                     date_                                              title  \\\n",
       "35  Posted at 19:31 14 Dec     Climate activists vow to continue breaking law   \n",
       "36  Posted at 15:05 14 Dec  Arctic heat record is like Mediterranean, says UN   \n",
       "37   Posted at 1:14 14 Dec        How to make electricity for your neighbours   \n",
       "38  Posted at 20:44 13 Dec      Antarctic glacier heading for dramatic change   \n",
       "39  Posted at 19:09 13 Dec     Are deadly US tornadoes due to climate change?   \n",
       "\n",
       "                                                 link  \\\n",
       "35       https://www.bbc.com/news/uk-england-59651548   \n",
       "36  https://www.bbc.com/news/science-environment-5...   \n",
       "37          https://www.bbc.com/news/stories-59635134   \n",
       "38  https://www.bbc.com/news/science-environment-5...   \n",
       "39                  https://www.bbc.com/news/59641376   \n",
       "\n",
       "                                                text_  \\\n",
       "35  Anglican priest Rev Sue Parfitt tells a court ...   \n",
       "36  The highest temperature recorded in the region...   \n",
       "37  Video contentVideo caption: Sick of waiting fo...   \n",
       "38  By Jonathan AmosBBC Science CorrespondentScien...   \n",
       "39  Are tornadoes becoming more frequent, dangerou...   \n",
       "\n",
       "                  timestamps_  \n",
       "35 2021-12-24 15:26:00.163228  \n",
       "36 2021-12-24 15:26:00.163228  \n",
       "37 2021-12-24 15:26:00.163228  \n",
       "38 2021-12-24 15:26:00.163228  \n",
       "39 2021-12-24 15:26:00.163228  "
      ]
     },
     "execution_count": 2,
     "metadata": {},
     "output_type": "execute_result"
    }
   ],
   "source": [
    "import pandas as pd\n",
    "import sqlite3\n",
    "\n",
    "# Crea una conexión a la base de datos SQLite\n",
    "con = sqlite3.connect(r\"C:\\Users\\calanche\\Desktop\\projectNLP\\bbc_db.sqlite\")\n",
    "\n",
    "# Extrae los datos de la consulta directamente a un DataFrame\n",
    "bbc_df = pd.read_sql_query(\"SELECT * from bbc_db\", con, parse_dates=[\"timestamps_\"])\n",
    "bbc_df.tail()\n",
    "\n",
    "# # Selecciona sólo datos en el año 2002\n",
    "# surveys2002 = surveys_df[surveys_df.year == 2002]\n",
    "\n",
    "# # Escribe los datos del nuevo DataFrame en una nueva tabla en SQLite\n",
    "# surveys2002.to_sql(\"surveys2002\", con, if_exists=\"replace\")\n",
    "\n",
    "# # No te olvides de cerrar la conexión\n",
    "# con.close()"
   ]
  },
  {
   "cell_type": "code",
   "execution_count": 3,
   "id": "healthy-system",
   "metadata": {},
   "outputs": [
    {
     "data": {
      "text/plain": [
       "dtype('<M8[ns]')"
      ]
     },
     "execution_count": 3,
     "metadata": {},
     "output_type": "execute_result"
    }
   ],
   "source": [
    "bbc_df[\"timestamps_\"].dtype"
   ]
  },
  {
   "cell_type": "code",
   "execution_count": 4,
   "id": "minor-commonwealth",
   "metadata": {},
   "outputs": [
    {
     "data": {
      "text/plain": [
       "0   2021-12-23 16:45:32.652863\n",
       "1   2021-12-23 16:45:32.652863\n",
       "Name: timestamps_, dtype: datetime64[ns]"
      ]
     },
     "execution_count": 4,
     "metadata": {},
     "output_type": "execute_result"
    }
   ],
   "source": [
    "bbc_df[\"timestamps_\"].head(2)"
   ]
  },
  {
   "cell_type": "code",
   "execution_count": 5,
   "id": "sophisticated-tennessee",
   "metadata": {},
   "outputs": [
    {
     "data": {
      "text/html": [
       "<div>\n",
       "<style scoped>\n",
       "    .dataframe tbody tr th:only-of-type {\n",
       "        vertical-align: middle;\n",
       "    }\n",
       "\n",
       "    .dataframe tbody tr th {\n",
       "        vertical-align: top;\n",
       "    }\n",
       "\n",
       "    .dataframe thead th {\n",
       "        text-align: right;\n",
       "    }\n",
       "</style>\n",
       "<table border=\"1\" class=\"dataframe\">\n",
       "  <thead>\n",
       "    <tr style=\"text-align: right;\">\n",
       "      <th></th>\n",
       "      <th>date_</th>\n",
       "      <th>title</th>\n",
       "      <th>link</th>\n",
       "      <th>text_</th>\n",
       "      <th>timestamps_</th>\n",
       "    </tr>\n",
       "  </thead>\n",
       "  <tbody>\n",
       "    <tr>\n",
       "      <th>20</th>\n",
       "      <td>Posted at 12:40</td>\n",
       "      <td>Business Review of 2021: Climate change and Covid</td>\n",
       "      <td>https://www.bbc.com/news/business-59730492</td>\n",
       "      <td>2021 saw countries grapple with climate change...</td>\n",
       "      <td>2021-12-24 15:26:00.163228</td>\n",
       "    </tr>\n",
       "    <tr>\n",
       "      <th>30</th>\n",
       "      <td>Posted at 10:27 17 Dec</td>\n",
       "      <td>Young climate activists snub 'hypocritical' award</td>\n",
       "      <td>https://www.bbc.com/news/uk-wales-59690009</td>\n",
       "      <td>The Young Friends of the Earth group say they ...</td>\n",
       "      <td>2021-12-24 15:26:00.163228</td>\n",
       "    </tr>\n",
       "    <tr>\n",
       "      <th>23</th>\n",
       "      <td>Posted at 11:54 21 Dec</td>\n",
       "      <td>Understanding climate change and Wales' future</td>\n",
       "      <td>https://www.bbc.com/news/uk-wales-59741676</td>\n",
       "      <td>Video contentVideo caption: Coatal erosion: Un...</td>\n",
       "      <td>2021-12-24 15:26:00.163228</td>\n",
       "    </tr>\n",
       "    <tr>\n",
       "      <th>24</th>\n",
       "      <td>Posted at 1:36 21 Dec</td>\n",
       "      <td>Miners experiment with hydrogen to power giant...</td>\n",
       "      <td>https://www.bbc.com/news/business-59576867</td>\n",
       "      <td>Anglo American is testing a hydrogen-powered g...</td>\n",
       "      <td>2021-12-24 15:26:00.163228</td>\n",
       "    </tr>\n",
       "    <tr>\n",
       "      <th>25</th>\n",
       "      <td>Posted at 18:02 20 Dec</td>\n",
       "      <td>Bumper funding rise for Welsh NHS amid backlog</td>\n",
       "      <td>https://www.bbc.com/news/uk-wales-politics-597...</td>\n",
       "      <td>Welsh NHS cash to be hiked by almost £900m nex...</td>\n",
       "      <td>2021-12-24 15:26:00.163228</td>\n",
       "    </tr>\n",
       "  </tbody>\n",
       "</table>\n",
       "</div>"
      ],
      "text/plain": [
       "                     date_                                              title  \\\n",
       "20         Posted at 12:40  Business Review of 2021: Climate change and Covid   \n",
       "30  Posted at 10:27 17 Dec  Young climate activists snub 'hypocritical' award   \n",
       "23  Posted at 11:54 21 Dec     Understanding climate change and Wales' future   \n",
       "24   Posted at 1:36 21 Dec  Miners experiment with hydrogen to power giant...   \n",
       "25  Posted at 18:02 20 Dec     Bumper funding rise for Welsh NHS amid backlog   \n",
       "\n",
       "                                                 link  \\\n",
       "20         https://www.bbc.com/news/business-59730492   \n",
       "30         https://www.bbc.com/news/uk-wales-59690009   \n",
       "23         https://www.bbc.com/news/uk-wales-59741676   \n",
       "24         https://www.bbc.com/news/business-59576867   \n",
       "25  https://www.bbc.com/news/uk-wales-politics-597...   \n",
       "\n",
       "                                                text_  \\\n",
       "20  2021 saw countries grapple with climate change...   \n",
       "30  The Young Friends of the Earth group say they ...   \n",
       "23  Video contentVideo caption: Coatal erosion: Un...   \n",
       "24  Anglo American is testing a hydrogen-powered g...   \n",
       "25  Welsh NHS cash to be hiked by almost £900m nex...   \n",
       "\n",
       "                  timestamps_  \n",
       "20 2021-12-24 15:26:00.163228  \n",
       "30 2021-12-24 15:26:00.163228  \n",
       "23 2021-12-24 15:26:00.163228  \n",
       "24 2021-12-24 15:26:00.163228  \n",
       "25 2021-12-24 15:26:00.163228  "
      ]
     },
     "execution_count": 5,
     "metadata": {},
     "output_type": "execute_result"
    }
   ],
   "source": [
    "bbc_df.sort_values(by=[\"timestamps_\"], inplace=True, ascending=False)\n",
    "bbc_df.head()"
   ]
  },
  {
   "cell_type": "code",
   "execution_count": null,
   "id": "adaptive-value",
   "metadata": {},
   "outputs": [],
   "source": []
  },
  {
   "cell_type": "code",
   "execution_count": 6,
   "id": "urban-slovakia",
   "metadata": {},
   "outputs": [],
   "source": [
    "# Make a copy\n",
    "\n",
    "df_tmp = bbc_df.copy()"
   ]
  },
  {
   "cell_type": "code",
   "execution_count": 7,
   "id": "renewable-graph",
   "metadata": {},
   "outputs": [
    {
     "data": {
      "text/plain": [
       "20    24\n",
       "30    24\n",
       "23    24\n",
       "24    24\n",
       "25    24\n",
       "26    24\n",
       "27    24\n",
       "28    24\n",
       "29    24\n",
       "31    24\n",
       "21    24\n",
       "32    24\n",
       "33    24\n",
       "34    24\n",
       "35    24\n",
       "36    24\n",
       "37    24\n",
       "38    24\n",
       "22    24\n",
       "39    24\n",
       "1     23\n",
       "19    23\n",
       "2     23\n",
       "3     23\n",
       "4     23\n",
       "5     23\n",
       "6     23\n",
       "7     23\n",
       "8     23\n",
       "9     23\n",
       "10    23\n",
       "11    23\n",
       "12    23\n",
       "13    23\n",
       "14    23\n",
       "15    23\n",
       "16    23\n",
       "17    23\n",
       "18    23\n",
       "0     23\n",
       "Name: timestamps_, dtype: int64"
      ]
     },
     "execution_count": 7,
     "metadata": {},
     "output_type": "execute_result"
    }
   ],
   "source": [
    "days = df_tmp.timestamps_.dt.day\n",
    "days"
   ]
  },
  {
   "cell_type": "code",
   "execution_count": 7,
   "id": "acute-promotion",
   "metadata": {},
   "outputs": [
    {
     "name": "stdout",
     "output_type": "stream",
     "text": [
      "[\"2021 saw countries grapple with climate change's economic challenges, and Covid's continuing impact.Read morenext\", 'The Young Friends of the Earth group say they have rejected the award over climate change inaction.Read morenext', \"Video contentVideo caption: Coatal erosion: Understanding climate change and Wales' futureCoatal erosion: Understanding climate change and Wales' futureWales' first coastal monitoring team says new data methods will mean better sea defences for residents.\", 'Anglo American is testing a hydrogen-powered giant truck in a bid to make its business greener.Read morenext', 'Welsh NHS cash to be hiked by almost £900m next year to tackle waiting lists caused by Covid.Read morenext', 'Business leaders write an open letter to politicians, warning them against creating a \"hostile investment environment\".Read morenext', 'Plans to build 600m of new sea defences are drawn up to protect properties from rising sea levels.Read morenext', 'Poorly insulated homes are bad for bills and the environment - but how can renters get improvements?Read morenext', 'Video contentVideo caption: Jenson Button - Extreme E is really exciting right nowJenson Button - Extreme E is really exciting right now', 'Preston City Council made the pledge become carbon neutral by 2030 back in April 2019.Read morenext', 'A group of editors is working tirelessly to keep bad climate info off the user-generated encyclopaedia.Read morenext', 'Video contentVideo caption: The measure bans most new builds from using gas or oil for heating, hot water and cookingThe measure bans most new builds from using gas or oil for heating, hot water and cookingThe new measure bans most new buildings from being supplied with gas or oil for heating, hot water and cooking.', 'Welsh Conservatives say money spent on COP Cymru was a waste of “hard-earned taxpayer money\".Read morenext', 'Eight teenagers won a milestone environmental court case in Australia, but the result was appealed.Read morenext', 'Anglican priest Rev Sue Parfitt tells a court it is of \"no consequence\" if she is jailed.Read morenext', 'The highest temperature recorded in the region last year - 38C (100F) - is officially confirmed.Read morenext', 'Video contentVideo caption: Sick of waiting for electricity to reach his home, a Kenyan man built his own power plantSick of waiting for electricity to reach his home, a Kenyan man built his own power plantHe got sick of waiting for the power grid to reach his village in Kenya, so John Magiro built his own power plant.', 'By Jonathan AmosBBC Science CorrespondentScientists say a section at the front of Thwaites Glacier could soon \"shatter like a car windscreen\".Read morenext', 'The consultation is open until mid-February with early findings expected at the start of the year.Read morenext', 'Are tornadoes becoming more frequent, dangerous or unpredictable - and is the changing climate to blame?Read morenext', \"Video contentVideo caption: Coatal erosion: Understanding climate change and Wales' futureCoatal erosion: Understanding climate change and Wales' futureWales' first coastal monitoring team says new data methods will mean better sea defences for residents.\", 'The restaurant powered by wind turbines and solar panels will act as a blueprint for future stores.Read morenext', 'Anglo American is testing a hydrogen-powered giant truck in a bid to make its business greener.Read morenext', 'Welsh NHS cash to be hiked by almost £900m next year to tackle waiting lists caused by Covid.Read morenext', 'Business leaders write an open letter to politicians, warning them against creating a \"hostile investment environment\".Read morenext', 'Plans to build 600m of new sea defences are drawn up to protect properties from rising sea levels.Read morenext', 'Poorly insulated homes are bad for bills and the environment - but how can renters get improvements?Read morenext', 'Video contentVideo caption: Jenson Button - Extreme E is really exciting right nowJenson Button - Extreme E is really exciting right now', 'The Young Friends of the Earth group say they have rejected the award over climate change inaction.Read morenext', 'Preston City Council made the pledge become carbon neutral by 2030 back in April 2019.Read morenext', 'Video contentVideo caption: The measure bans most new builds from using gas or oil for heating, hot water and cookingThe measure bans most new builds from using gas or oil for heating, hot water and cookingThe new measure bans most new buildings from being supplied with gas or oil for heating, hot water and cooking.', 'Welsh Conservatives say money spent on COP Cymru was a waste of “hard-earned taxpayer money\".Read morenext', 'Eight teenagers won a milestone environmental court case in Australia, but the result was appealed.Read morenext', 'Anglican priest Rev Sue Parfitt tells a court it is of \"no consequence\" if she is jailed.Read morenext', 'The highest temperature recorded in the region last year - 38C (100F) - is officially confirmed.Read morenext', 'Video contentVideo caption: Sick of waiting for electricity to reach his home, a Kenyan man built his own power plantSick of waiting for electricity to reach his home, a Kenyan man built his own power plantHe got sick of waiting for the power grid to reach his village in Kenya, so John Magiro built his own power plant.', 'By Jonathan AmosBBC Science CorrespondentScientists say a section at the front of Thwaites Glacier could soon \"shatter like a car windscreen\".Read morenext', 'Are tornadoes becoming more frequent, dangerous or unpredictable - and is the changing climate to blame?Read morenext', \"Video contentVideo caption: In Scotland, private landowners are hoping to repair and restore the country’s ecosystemsIn Scotland, private landowners are hoping to repair and restore the country’s ecosystemsAllan Little heads home to see how a handful of private landowners are embarking on a bold vision to repair and restore Scotland's ecosystems after decades of land mismanagement.\", 'The consultation is open until mid-February with early findings expected at the start of the year.Read morenext']\n"
     ]
    }
   ],
   "source": [
    "text = list(bbc_df[\"text_\"])\n",
    "print(text)"
   ]
  },
  {
   "cell_type": "code",
   "execution_count": 8,
   "id": "aging-directory",
   "metadata": {},
   "outputs": [
    {
     "data": {
      "text/plain": [
       "\"2021 saw countries grapple with climate change's economic challenges, and Covid's continuing impact.Read morenext\""
      ]
     },
     "execution_count": 8,
     "metadata": {},
     "output_type": "execute_result"
    }
   ],
   "source": [
    "text[0]"
   ]
  },
  {
   "cell_type": "code",
   "execution_count": 8,
   "id": "responsible-module",
   "metadata": {},
   "outputs": [],
   "source": [
    "days = df_tmp.timestamps_.dt.day\n",
    "years =df_tmp.timestamps_.dt.year"
   ]
  },
  {
   "cell_type": "code",
   "execution_count": 10,
   "id": "integral-uruguay",
   "metadata": {},
   "outputs": [
    {
     "data": {
      "text/plain": [
       "[2021]"
      ]
     },
     "execution_count": 10,
     "metadata": {},
     "output_type": "execute_result"
    }
   ],
   "source": [
    "years.unique()\n",
    "list(years.unique())"
   ]
  },
  {
   "cell_type": "code",
   "execution_count": 11,
   "id": "rolled-springfield",
   "metadata": {},
   "outputs": [
    {
     "data": {
      "text/html": [
       "<div>\n",
       "<style scoped>\n",
       "    .dataframe tbody tr th:only-of-type {\n",
       "        vertical-align: middle;\n",
       "    }\n",
       "\n",
       "    .dataframe tbody tr th {\n",
       "        vertical-align: top;\n",
       "    }\n",
       "\n",
       "    .dataframe thead th {\n",
       "        text-align: right;\n",
       "    }\n",
       "</style>\n",
       "<table border=\"1\" class=\"dataframe\">\n",
       "  <thead>\n",
       "    <tr style=\"text-align: right;\">\n",
       "      <th></th>\n",
       "      <th>date_</th>\n",
       "      <th>title</th>\n",
       "      <th>link</th>\n",
       "      <th>text_</th>\n",
       "      <th>timestamps_</th>\n",
       "    </tr>\n",
       "  </thead>\n",
       "  <tbody>\n",
       "    <tr>\n",
       "      <th>20</th>\n",
       "      <td>Posted at 12:40</td>\n",
       "      <td>Business Review of 2021: Climate change and Covid</td>\n",
       "      <td>https://www.bbc.com/news/business-59730492</td>\n",
       "      <td>2021 saw countries grapple with climate change...</td>\n",
       "      <td>2021-12-24 15:26:00.163228</td>\n",
       "    </tr>\n",
       "    <tr>\n",
       "      <th>30</th>\n",
       "      <td>Posted at 10:27 17 Dec</td>\n",
       "      <td>Young climate activists snub 'hypocritical' award</td>\n",
       "      <td>https://www.bbc.com/news/uk-wales-59690009</td>\n",
       "      <td>The Young Friends of the Earth group say they ...</td>\n",
       "      <td>2021-12-24 15:26:00.163228</td>\n",
       "    </tr>\n",
       "    <tr>\n",
       "      <th>23</th>\n",
       "      <td>Posted at 11:54 21 Dec</td>\n",
       "      <td>Understanding climate change and Wales' future</td>\n",
       "      <td>https://www.bbc.com/news/uk-wales-59741676</td>\n",
       "      <td>Video contentVideo caption: Coatal erosion: Un...</td>\n",
       "      <td>2021-12-24 15:26:00.163228</td>\n",
       "    </tr>\n",
       "    <tr>\n",
       "      <th>24</th>\n",
       "      <td>Posted at 1:36 21 Dec</td>\n",
       "      <td>Miners experiment with hydrogen to power giant...</td>\n",
       "      <td>https://www.bbc.com/news/business-59576867</td>\n",
       "      <td>Anglo American is testing a hydrogen-powered g...</td>\n",
       "      <td>2021-12-24 15:26:00.163228</td>\n",
       "    </tr>\n",
       "    <tr>\n",
       "      <th>25</th>\n",
       "      <td>Posted at 18:02 20 Dec</td>\n",
       "      <td>Bumper funding rise for Welsh NHS amid backlog</td>\n",
       "      <td>https://www.bbc.com/news/uk-wales-politics-597...</td>\n",
       "      <td>Welsh NHS cash to be hiked by almost £900m nex...</td>\n",
       "      <td>2021-12-24 15:26:00.163228</td>\n",
       "    </tr>\n",
       "    <tr>\n",
       "      <th>26</th>\n",
       "      <td>Posted at 11:58 19 Dec</td>\n",
       "      <td>Calls for 'reasoned debate' over oil and gas f...</td>\n",
       "      <td>https://www.bbc.com/news/uk-scotland-scotland-...</td>\n",
       "      <td>Business leaders write an open letter to polit...</td>\n",
       "      <td>2021-12-24 15:26:00.163228</td>\n",
       "    </tr>\n",
       "    <tr>\n",
       "      <th>27</th>\n",
       "      <td>Posted at 14:00 18 Dec</td>\n",
       "      <td>Sea defences 'in various states of disrepair'</td>\n",
       "      <td>https://www.bbc.com/news/uk-wales-59709880</td>\n",
       "      <td>Plans to build 600m of new sea defences are dr...</td>\n",
       "      <td>2021-12-24 15:26:00.163228</td>\n",
       "    </tr>\n",
       "    <tr>\n",
       "      <th>28</th>\n",
       "      <td>Posted at 0:50 18 Dec</td>\n",
       "      <td>How can renters make their homes warmer and gr...</td>\n",
       "      <td>https://www.bbc.com/news/uk-59223081</td>\n",
       "      <td>Poorly insulated homes are bad for bills and t...</td>\n",
       "      <td>2021-12-24 15:26:00.163228</td>\n",
       "    </tr>\n",
       "    <tr>\n",
       "      <th>29</th>\n",
       "      <td>Posted at 17:19 17 Dec</td>\n",
       "      <td>Extreme E 'really exciting' right now - Button</td>\n",
       "      <td>https://www.bbc.com/sport/av/motorsport/59703165</td>\n",
       "      <td>Video contentVideo caption: Jenson Button - Ex...</td>\n",
       "      <td>2021-12-24 15:26:00.163228</td>\n",
       "    </tr>\n",
       "    <tr>\n",
       "      <th>31</th>\n",
       "      <td>Posted at 10:18 17 Dec</td>\n",
       "      <td>Carbon neutral pledge poses 'financial challenge'</td>\n",
       "      <td>https://www.bbc.com/news/uk-england-lancashire...</td>\n",
       "      <td>Preston City Council made the pledge become ca...</td>\n",
       "      <td>2021-12-24 15:26:00.163228</td>\n",
       "    </tr>\n",
       "    <tr>\n",
       "      <th>21</th>\n",
       "      <td>Posted at 0:13</td>\n",
       "      <td>'We fight climate denial on Wikipedia'</td>\n",
       "      <td>https://www.bbc.com/news/blogs-trending-59452614</td>\n",
       "      <td>A group of editors is working tirelessly to ke...</td>\n",
       "      <td>2021-12-24 15:26:00.163228</td>\n",
       "    </tr>\n",
       "    <tr>\n",
       "      <th>32</th>\n",
       "      <td>Posted at 13:10 16 Dec</td>\n",
       "      <td>Climate change: New York bill bans natural gas...</td>\n",
       "      <td>https://www.bbc.comhttps://www.bbc.co.uk/using...</td>\n",
       "      <td>Video contentVideo caption: The measure bans m...</td>\n",
       "      <td>2021-12-24 15:26:00.163228</td>\n",
       "    </tr>\n",
       "    <tr>\n",
       "      <th>33</th>\n",
       "      <td>Posted at 6:22 16 Dec</td>\n",
       "      <td>COP Cymru events costly failure, say Welsh Tories</td>\n",
       "      <td>https://www.bbc.com/news/uk-wales-59670318</td>\n",
       "      <td>Welsh Conservatives say money spent on COP Cym...</td>\n",
       "      <td>2021-12-24 15:26:00.163228</td>\n",
       "    </tr>\n",
       "    <tr>\n",
       "      <th>34</th>\n",
       "      <td>Posted at 16:58 15 Dec</td>\n",
       "      <td>The teenagers and the nun fighting a coal mine</td>\n",
       "      <td>https://www.bbc.com/news/world-australia-59390798</td>\n",
       "      <td>Eight teenagers won a milestone environmental ...</td>\n",
       "      <td>2021-12-24 15:26:00.163228</td>\n",
       "    </tr>\n",
       "    <tr>\n",
       "      <th>35</th>\n",
       "      <td>Posted at 19:31 14 Dec</td>\n",
       "      <td>Climate activists vow to continue breaking law</td>\n",
       "      <td>https://www.bbc.com/news/uk-england-59651548</td>\n",
       "      <td>Anglican priest Rev Sue Parfitt tells a court ...</td>\n",
       "      <td>2021-12-24 15:26:00.163228</td>\n",
       "    </tr>\n",
       "    <tr>\n",
       "      <th>36</th>\n",
       "      <td>Posted at 15:05 14 Dec</td>\n",
       "      <td>Arctic heat record is like Mediterranean, says UN</td>\n",
       "      <td>https://www.bbc.com/news/science-environment-5...</td>\n",
       "      <td>The highest temperature recorded in the region...</td>\n",
       "      <td>2021-12-24 15:26:00.163228</td>\n",
       "    </tr>\n",
       "    <tr>\n",
       "      <th>37</th>\n",
       "      <td>Posted at 1:14 14 Dec</td>\n",
       "      <td>How to make electricity for your neighbours</td>\n",
       "      <td>https://www.bbc.com/news/stories-59635134</td>\n",
       "      <td>Video contentVideo caption: Sick of waiting fo...</td>\n",
       "      <td>2021-12-24 15:26:00.163228</td>\n",
       "    </tr>\n",
       "    <tr>\n",
       "      <th>38</th>\n",
       "      <td>Posted at 20:44 13 Dec</td>\n",
       "      <td>Antarctic glacier heading for dramatic change</td>\n",
       "      <td>https://www.bbc.com/news/science-environment-5...</td>\n",
       "      <td>By Jonathan AmosBBC Science CorrespondentScien...</td>\n",
       "      <td>2021-12-24 15:26:00.163228</td>\n",
       "    </tr>\n",
       "    <tr>\n",
       "      <th>22</th>\n",
       "      <td>Posted at 18:36 21 Dec</td>\n",
       "      <td>Consultation launched on future agricultural p...</td>\n",
       "      <td>https://www.bbc.com/news/uk-northern-ireland-5...</td>\n",
       "      <td>The consultation is open until mid-February wi...</td>\n",
       "      <td>2021-12-24 15:26:00.163228</td>\n",
       "    </tr>\n",
       "    <tr>\n",
       "      <th>39</th>\n",
       "      <td>Posted at 19:09 13 Dec</td>\n",
       "      <td>Are deadly US tornadoes due to climate change?</td>\n",
       "      <td>https://www.bbc.com/news/59641376</td>\n",
       "      <td>Are tornadoes becoming more frequent, dangerou...</td>\n",
       "      <td>2021-12-24 15:26:00.163228</td>\n",
       "    </tr>\n",
       "  </tbody>\n",
       "</table>\n",
       "</div>"
      ],
      "text/plain": [
       "                     date_                                              title  \\\n",
       "20         Posted at 12:40  Business Review of 2021: Climate change and Covid   \n",
       "30  Posted at 10:27 17 Dec  Young climate activists snub 'hypocritical' award   \n",
       "23  Posted at 11:54 21 Dec     Understanding climate change and Wales' future   \n",
       "24   Posted at 1:36 21 Dec  Miners experiment with hydrogen to power giant...   \n",
       "25  Posted at 18:02 20 Dec     Bumper funding rise for Welsh NHS amid backlog   \n",
       "26  Posted at 11:58 19 Dec  Calls for 'reasoned debate' over oil and gas f...   \n",
       "27  Posted at 14:00 18 Dec      Sea defences 'in various states of disrepair'   \n",
       "28   Posted at 0:50 18 Dec  How can renters make their homes warmer and gr...   \n",
       "29  Posted at 17:19 17 Dec     Extreme E 'really exciting' right now - Button   \n",
       "31  Posted at 10:18 17 Dec  Carbon neutral pledge poses 'financial challenge'   \n",
       "21          Posted at 0:13             'We fight climate denial on Wikipedia'   \n",
       "32  Posted at 13:10 16 Dec  Climate change: New York bill bans natural gas...   \n",
       "33   Posted at 6:22 16 Dec  COP Cymru events costly failure, say Welsh Tories   \n",
       "34  Posted at 16:58 15 Dec     The teenagers and the nun fighting a coal mine   \n",
       "35  Posted at 19:31 14 Dec     Climate activists vow to continue breaking law   \n",
       "36  Posted at 15:05 14 Dec  Arctic heat record is like Mediterranean, says UN   \n",
       "37   Posted at 1:14 14 Dec        How to make electricity for your neighbours   \n",
       "38  Posted at 20:44 13 Dec      Antarctic glacier heading for dramatic change   \n",
       "22  Posted at 18:36 21 Dec  Consultation launched on future agricultural p...   \n",
       "39  Posted at 19:09 13 Dec     Are deadly US tornadoes due to climate change?   \n",
       "\n",
       "                                                 link  \\\n",
       "20         https://www.bbc.com/news/business-59730492   \n",
       "30         https://www.bbc.com/news/uk-wales-59690009   \n",
       "23         https://www.bbc.com/news/uk-wales-59741676   \n",
       "24         https://www.bbc.com/news/business-59576867   \n",
       "25  https://www.bbc.com/news/uk-wales-politics-597...   \n",
       "26  https://www.bbc.com/news/uk-scotland-scotland-...   \n",
       "27         https://www.bbc.com/news/uk-wales-59709880   \n",
       "28               https://www.bbc.com/news/uk-59223081   \n",
       "29   https://www.bbc.com/sport/av/motorsport/59703165   \n",
       "31  https://www.bbc.com/news/uk-england-lancashire...   \n",
       "21   https://www.bbc.com/news/blogs-trending-59452614   \n",
       "32  https://www.bbc.comhttps://www.bbc.co.uk/using...   \n",
       "33         https://www.bbc.com/news/uk-wales-59670318   \n",
       "34  https://www.bbc.com/news/world-australia-59390798   \n",
       "35       https://www.bbc.com/news/uk-england-59651548   \n",
       "36  https://www.bbc.com/news/science-environment-5...   \n",
       "37          https://www.bbc.com/news/stories-59635134   \n",
       "38  https://www.bbc.com/news/science-environment-5...   \n",
       "22  https://www.bbc.com/news/uk-northern-ireland-5...   \n",
       "39                  https://www.bbc.com/news/59641376   \n",
       "\n",
       "                                                text_  \\\n",
       "20  2021 saw countries grapple with climate change...   \n",
       "30  The Young Friends of the Earth group say they ...   \n",
       "23  Video contentVideo caption: Coatal erosion: Un...   \n",
       "24  Anglo American is testing a hydrogen-powered g...   \n",
       "25  Welsh NHS cash to be hiked by almost £900m nex...   \n",
       "26  Business leaders write an open letter to polit...   \n",
       "27  Plans to build 600m of new sea defences are dr...   \n",
       "28  Poorly insulated homes are bad for bills and t...   \n",
       "29  Video contentVideo caption: Jenson Button - Ex...   \n",
       "31  Preston City Council made the pledge become ca...   \n",
       "21  A group of editors is working tirelessly to ke...   \n",
       "32  Video contentVideo caption: The measure bans m...   \n",
       "33  Welsh Conservatives say money spent on COP Cym...   \n",
       "34  Eight teenagers won a milestone environmental ...   \n",
       "35  Anglican priest Rev Sue Parfitt tells a court ...   \n",
       "36  The highest temperature recorded in the region...   \n",
       "37  Video contentVideo caption: Sick of waiting fo...   \n",
       "38  By Jonathan AmosBBC Science CorrespondentScien...   \n",
       "22  The consultation is open until mid-February wi...   \n",
       "39  Are tornadoes becoming more frequent, dangerou...   \n",
       "\n",
       "                  timestamps_  \n",
       "20 2021-12-24 15:26:00.163228  \n",
       "30 2021-12-24 15:26:00.163228  \n",
       "23 2021-12-24 15:26:00.163228  \n",
       "24 2021-12-24 15:26:00.163228  \n",
       "25 2021-12-24 15:26:00.163228  \n",
       "26 2021-12-24 15:26:00.163228  \n",
       "27 2021-12-24 15:26:00.163228  \n",
       "28 2021-12-24 15:26:00.163228  \n",
       "29 2021-12-24 15:26:00.163228  \n",
       "31 2021-12-24 15:26:00.163228  \n",
       "21 2021-12-24 15:26:00.163228  \n",
       "32 2021-12-24 15:26:00.163228  \n",
       "33 2021-12-24 15:26:00.163228  \n",
       "34 2021-12-24 15:26:00.163228  \n",
       "35 2021-12-24 15:26:00.163228  \n",
       "36 2021-12-24 15:26:00.163228  \n",
       "37 2021-12-24 15:26:00.163228  \n",
       "38 2021-12-24 15:26:00.163228  \n",
       "22 2021-12-24 15:26:00.163228  \n",
       "39 2021-12-24 15:26:00.163228  "
      ]
     },
     "execution_count": 11,
     "metadata": {},
     "output_type": "execute_result"
    }
   ],
   "source": [
    "df_tmp[((df_tmp.timestamps_.dt.year.isin([2021])) & (df_tmp.timestamps_.dt.day.isin([24])))]"
   ]
  },
  {
   "cell_type": "code",
   "execution_count": 12,
   "id": "governing-repair",
   "metadata": {},
   "outputs": [
    {
     "data": {
      "text/plain": [
       "[True,\n",
       " True,\n",
       " True,\n",
       " True,\n",
       " True,\n",
       " True,\n",
       " True,\n",
       " True,\n",
       " True,\n",
       " True,\n",
       " True,\n",
       " True,\n",
       " True,\n",
       " True,\n",
       " True,\n",
       " True,\n",
       " True,\n",
       " True,\n",
       " True,\n",
       " True,\n",
       " True,\n",
       " True,\n",
       " True,\n",
       " True,\n",
       " True,\n",
       " True,\n",
       " True,\n",
       " True,\n",
       " True,\n",
       " True,\n",
       " True,\n",
       " True,\n",
       " True,\n",
       " True,\n",
       " True,\n",
       " True,\n",
       " True,\n",
       " True,\n",
       " True,\n",
       " True]"
      ]
     },
     "execution_count": 12,
     "metadata": {},
     "output_type": "execute_result"
    }
   ],
   "source": [
    "df_to_list = df_tmp.timestamps_.dt.year.isin(years).to_list()\n",
    "df_to_list"
   ]
  },
  {
   "cell_type": "code",
   "execution_count": 13,
   "id": "alone-kentucky",
   "metadata": {},
   "outputs": [
    {
     "data": {
      "text/html": [
       "<div>\n",
       "<style scoped>\n",
       "    .dataframe tbody tr th:only-of-type {\n",
       "        vertical-align: middle;\n",
       "    }\n",
       "\n",
       "    .dataframe tbody tr th {\n",
       "        vertical-align: top;\n",
       "    }\n",
       "\n",
       "    .dataframe thead th {\n",
       "        text-align: right;\n",
       "    }\n",
       "</style>\n",
       "<table border=\"1\" class=\"dataframe\">\n",
       "  <thead>\n",
       "    <tr style=\"text-align: right;\">\n",
       "      <th></th>\n",
       "      <th>date_</th>\n",
       "      <th>title</th>\n",
       "      <th>link</th>\n",
       "      <th>text_</th>\n",
       "      <th>timestamps_</th>\n",
       "    </tr>\n",
       "  </thead>\n",
       "  <tbody>\n",
       "    <tr>\n",
       "      <th>20</th>\n",
       "      <td>Posted at 12:40</td>\n",
       "      <td>Business Review of 2021: Climate change and Covid</td>\n",
       "      <td>https://www.bbc.com/news/business-59730492</td>\n",
       "      <td>2021 saw countries grapple with climate change...</td>\n",
       "      <td>2021-12-24 15:26:00.163228</td>\n",
       "    </tr>\n",
       "    <tr>\n",
       "      <th>30</th>\n",
       "      <td>Posted at 10:27 17 Dec</td>\n",
       "      <td>Young climate activists snub 'hypocritical' award</td>\n",
       "      <td>https://www.bbc.com/news/uk-wales-59690009</td>\n",
       "      <td>The Young Friends of the Earth group say they ...</td>\n",
       "      <td>2021-12-24 15:26:00.163228</td>\n",
       "    </tr>\n",
       "    <tr>\n",
       "      <th>23</th>\n",
       "      <td>Posted at 11:54 21 Dec</td>\n",
       "      <td>Understanding climate change and Wales' future</td>\n",
       "      <td>https://www.bbc.com/news/uk-wales-59741676</td>\n",
       "      <td>Video contentVideo caption: Coatal erosion: Un...</td>\n",
       "      <td>2021-12-24 15:26:00.163228</td>\n",
       "    </tr>\n",
       "    <tr>\n",
       "      <th>24</th>\n",
       "      <td>Posted at 1:36 21 Dec</td>\n",
       "      <td>Miners experiment with hydrogen to power giant...</td>\n",
       "      <td>https://www.bbc.com/news/business-59576867</td>\n",
       "      <td>Anglo American is testing a hydrogen-powered g...</td>\n",
       "      <td>2021-12-24 15:26:00.163228</td>\n",
       "    </tr>\n",
       "    <tr>\n",
       "      <th>25</th>\n",
       "      <td>Posted at 18:02 20 Dec</td>\n",
       "      <td>Bumper funding rise for Welsh NHS amid backlog</td>\n",
       "      <td>https://www.bbc.com/news/uk-wales-politics-597...</td>\n",
       "      <td>Welsh NHS cash to be hiked by almost £900m nex...</td>\n",
       "      <td>2021-12-24 15:26:00.163228</td>\n",
       "    </tr>\n",
       "  </tbody>\n",
       "</table>\n",
       "</div>"
      ],
      "text/plain": [
       "                     date_                                              title  \\\n",
       "20         Posted at 12:40  Business Review of 2021: Climate change and Covid   \n",
       "30  Posted at 10:27 17 Dec  Young climate activists snub 'hypocritical' award   \n",
       "23  Posted at 11:54 21 Dec     Understanding climate change and Wales' future   \n",
       "24   Posted at 1:36 21 Dec  Miners experiment with hydrogen to power giant...   \n",
       "25  Posted at 18:02 20 Dec     Bumper funding rise for Welsh NHS amid backlog   \n",
       "\n",
       "                                                 link  \\\n",
       "20         https://www.bbc.com/news/business-59730492   \n",
       "30         https://www.bbc.com/news/uk-wales-59690009   \n",
       "23         https://www.bbc.com/news/uk-wales-59741676   \n",
       "24         https://www.bbc.com/news/business-59576867   \n",
       "25  https://www.bbc.com/news/uk-wales-politics-597...   \n",
       "\n",
       "                                                text_  \\\n",
       "20  2021 saw countries grapple with climate change...   \n",
       "30  The Young Friends of the Earth group say they ...   \n",
       "23  Video contentVideo caption: Coatal erosion: Un...   \n",
       "24  Anglo American is testing a hydrogen-powered g...   \n",
       "25  Welsh NHS cash to be hiked by almost £900m nex...   \n",
       "\n",
       "                  timestamps_  \n",
       "20 2021-12-24 15:26:00.163228  \n",
       "30 2021-12-24 15:26:00.163228  \n",
       "23 2021-12-24 15:26:00.163228  \n",
       "24 2021-12-24 15:26:00.163228  \n",
       "25 2021-12-24 15:26:00.163228  "
      ]
     },
     "execution_count": 13,
     "metadata": {},
     "output_type": "execute_result"
    }
   ],
   "source": [
    "r = df_tmp[(df_tmp.timestamps_.dt.year.isin(years)) & (df_tmp.timestamps_.dt.day.isin(days))]\n",
    "r.head()"
   ]
  },
  {
   "cell_type": "code",
   "execution_count": 20,
   "id": "applicable-first",
   "metadata": {},
   "outputs": [
    {
     "data": {
      "text/plain": [
       "['Business Review of 2021: Climate change and Covid',\n",
       " \"Young climate activists snub 'hypocritical' award\",\n",
       " \"Understanding climate change and Wales' future\",\n",
       " 'Miners experiment with hydrogen to power giant trucks',\n",
       " 'Bumper funding rise for Welsh NHS amid backlog',\n",
       " \"Calls for 'reasoned debate' over oil and gas future\",\n",
       " \"Sea defences 'in various states of disrepair'\",\n",
       " 'How can renters make their homes warmer and greener?',\n",
       " \"Extreme E 'really exciting' right now - Button\",\n",
       " \"Carbon neutral pledge poses 'financial challenge'\",\n",
       " \"'We fight climate denial on Wikipedia'\",\n",
       " 'Climate change: New York bill bans natural gas for new builds',\n",
       " 'COP Cymru events costly failure, say Welsh Tories',\n",
       " 'The teenagers and the nun fighting a coal mine',\n",
       " 'Climate activists vow to continue breaking law',\n",
       " 'Arctic heat record is like Mediterranean, says UN',\n",
       " 'How to make electricity for your neighbours',\n",
       " 'Antarctic glacier heading for dramatic change',\n",
       " 'Consultation launched on future agricultural policy',\n",
       " 'Are deadly US tornadoes due to climate change?',\n",
       " \"Understanding climate change and Wales' future\",\n",
       " \"Net zero McDonald's opens in 'UK first'\",\n",
       " 'Miners experiment with hydrogen to power giant trucks',\n",
       " 'Bumper funding rise for Welsh NHS amid backlog',\n",
       " \"Calls for 'reasoned debate' over oil and gas future\",\n",
       " \"Sea defences 'in various states of disrepair'\",\n",
       " 'How can renters make their homes warmer and greener?',\n",
       " \"Extreme E 'really exciting' right now - Button\",\n",
       " \"Young climate activists snub 'hypocritical' award\",\n",
       " \"Carbon neutral pledge poses 'financial challenge'\",\n",
       " 'Climate change: New York bill bans natural gas for new builds',\n",
       " 'COP Cymru events costly failure, say Welsh Tories',\n",
       " 'The teenagers and the nun fighting a coal mine',\n",
       " 'Climate activists vow to continue breaking law',\n",
       " 'Arctic heat record is like Mediterranean, says UN',\n",
       " 'How to make electricity for your neighbours',\n",
       " 'Antarctic glacier heading for dramatic change',\n",
       " 'Are deadly US tornadoes due to climate change?',\n",
       " 'The billionaire landowners changing Scotland’s landscape',\n",
       " 'Consultation launched on future agricultural policy']"
      ]
     },
     "execution_count": 20,
     "metadata": {},
     "output_type": "execute_result"
    }
   ],
   "source": [
    "# r[\"title\"].unique().tolist()\n",
    "# r[\"title\"].unique().\n",
    "\n",
    "a =r[\"title\"].tolist()\n",
    "\n",
    "a\n",
    "    "
   ]
  },
  {
   "cell_type": "code",
   "execution_count": 9,
   "id": "worldwide-heath",
   "metadata": {},
   "outputs": [
    {
     "data": {
      "text/html": [
       "<div>\n",
       "<style scoped>\n",
       "    .dataframe tbody tr th:only-of-type {\n",
       "        vertical-align: middle;\n",
       "    }\n",
       "\n",
       "    .dataframe tbody tr th {\n",
       "        vertical-align: top;\n",
       "    }\n",
       "\n",
       "    .dataframe thead th {\n",
       "        text-align: right;\n",
       "    }\n",
       "</style>\n",
       "<table border=\"1\" class=\"dataframe\">\n",
       "  <thead>\n",
       "    <tr style=\"text-align: right;\">\n",
       "      <th></th>\n",
       "      <th>date_</th>\n",
       "      <th>title</th>\n",
       "      <th>link</th>\n",
       "      <th>text_</th>\n",
       "      <th>timestamps_</th>\n",
       "    </tr>\n",
       "  </thead>\n",
       "  <tbody>\n",
       "    <tr>\n",
       "      <th>20</th>\n",
       "      <td>Posted at 12:40</td>\n",
       "      <td>Business Review of 2021: Climate change and Covid</td>\n",
       "      <td>https://www.bbc.com/news/business-59730492</td>\n",
       "      <td>2021 saw countries grapple with climate change...</td>\n",
       "      <td>2021-12-24 15:26:00.163228</td>\n",
       "    </tr>\n",
       "    <tr>\n",
       "      <th>30</th>\n",
       "      <td>Posted at 10:27 17 Dec</td>\n",
       "      <td>Young climate activists snub 'hypocritical' award</td>\n",
       "      <td>https://www.bbc.com/news/uk-wales-59690009</td>\n",
       "      <td>The Young Friends of the Earth group say they ...</td>\n",
       "      <td>2021-12-24 15:26:00.163228</td>\n",
       "    </tr>\n",
       "    <tr>\n",
       "      <th>23</th>\n",
       "      <td>Posted at 11:54 21 Dec</td>\n",
       "      <td>Understanding climate change and Wales' future</td>\n",
       "      <td>https://www.bbc.com/news/uk-wales-59741676</td>\n",
       "      <td>Video contentVideo caption: Coatal erosion: Un...</td>\n",
       "      <td>2021-12-24 15:26:00.163228</td>\n",
       "    </tr>\n",
       "    <tr>\n",
       "      <th>24</th>\n",
       "      <td>Posted at 1:36 21 Dec</td>\n",
       "      <td>Miners experiment with hydrogen to power giant...</td>\n",
       "      <td>https://www.bbc.com/news/business-59576867</td>\n",
       "      <td>Anglo American is testing a hydrogen-powered g...</td>\n",
       "      <td>2021-12-24 15:26:00.163228</td>\n",
       "    </tr>\n",
       "    <tr>\n",
       "      <th>25</th>\n",
       "      <td>Posted at 18:02 20 Dec</td>\n",
       "      <td>Bumper funding rise for Welsh NHS amid backlog</td>\n",
       "      <td>https://www.bbc.com/news/uk-wales-politics-597...</td>\n",
       "      <td>Welsh NHS cash to be hiked by almost £900m nex...</td>\n",
       "      <td>2021-12-24 15:26:00.163228</td>\n",
       "    </tr>\n",
       "  </tbody>\n",
       "</table>\n",
       "</div>"
      ],
      "text/plain": [
       "                     date_                                              title  \\\n",
       "20         Posted at 12:40  Business Review of 2021: Climate change and Covid   \n",
       "30  Posted at 10:27 17 Dec  Young climate activists snub 'hypocritical' award   \n",
       "23  Posted at 11:54 21 Dec     Understanding climate change and Wales' future   \n",
       "24   Posted at 1:36 21 Dec  Miners experiment with hydrogen to power giant...   \n",
       "25  Posted at 18:02 20 Dec     Bumper funding rise for Welsh NHS amid backlog   \n",
       "\n",
       "                                                 link  \\\n",
       "20         https://www.bbc.com/news/business-59730492   \n",
       "30         https://www.bbc.com/news/uk-wales-59690009   \n",
       "23         https://www.bbc.com/news/uk-wales-59741676   \n",
       "24         https://www.bbc.com/news/business-59576867   \n",
       "25  https://www.bbc.com/news/uk-wales-politics-597...   \n",
       "\n",
       "                                                text_  \\\n",
       "20  2021 saw countries grapple with climate change...   \n",
       "30  The Young Friends of the Earth group say they ...   \n",
       "23  Video contentVideo caption: Coatal erosion: Un...   \n",
       "24  Anglo American is testing a hydrogen-powered g...   \n",
       "25  Welsh NHS cash to be hiked by almost £900m nex...   \n",
       "\n",
       "                  timestamps_  \n",
       "20 2021-12-24 15:26:00.163228  \n",
       "30 2021-12-24 15:26:00.163228  \n",
       "23 2021-12-24 15:26:00.163228  \n",
       "24 2021-12-24 15:26:00.163228  \n",
       "25 2021-12-24 15:26:00.163228  "
      ]
     },
     "execution_count": 9,
     "metadata": {},
     "output_type": "execute_result"
    }
   ],
   "source": [
    "df_tmp.head()"
   ]
  },
  {
   "cell_type": "code",
   "execution_count": 11,
   "id": "artificial-adobe",
   "metadata": {},
   "outputs": [
    {
     "data": {
      "text/plain": [
       "20    2021 saw countries grapple with climate change...\n",
       "Name: text_, dtype: object"
      ]
     },
     "execution_count": 11,
     "metadata": {},
     "output_type": "execute_result"
    }
   ],
   "source": [
    "df_tmp[\"text_\"].head(1)"
   ]
  },
  {
   "cell_type": "code",
   "execution_count": 12,
   "id": "original-velvet",
   "metadata": {},
   "outputs": [],
   "source": [
    "from sklearn.feature_extraction.text import TfidfVectorizer"
   ]
  },
  {
   "cell_type": "code",
   "execution_count": 13,
   "id": "posted-delhi",
   "metadata": {},
   "outputs": [],
   "source": [
    "tfv = TfidfVectorizer(min_df=3, max_features =None,\n",
    "                     strip_accents=\"unicode\", analyzer=\"word\", token_pattern=r'\\w{1,}',\n",
    "                     ngram_range=(1, 3),\n",
    "                     stop_words = \"english\")\n",
    "\n",
    "# Filling NaNs with empty string\n",
    "\n",
    "# movies_cleaned_df[\"overview\"] = movies_cleaned_df[\"overview\"].fillna(\"\")\n",
    "\n",
    "\n",
    "df_tmp[\"text_\"]  = df_tmp[\"text_\"].fillna(\"\")"
   ]
  },
  {
   "cell_type": "code",
   "execution_count": 43,
   "id": "satisfactory-federation",
   "metadata": {},
   "outputs": [
    {
     "data": {
      "text/plain": [
       "(20, 5)"
      ]
     },
     "execution_count": 43,
     "metadata": {},
     "output_type": "execute_result"
    }
   ],
   "source": [
    "df_tmp_1 = df_tmp[:20]\n",
    "\n",
    "df_tmp_1.shape"
   ]
  },
  {
   "cell_type": "code",
   "execution_count": 44,
   "id": "turkish-motor",
   "metadata": {},
   "outputs": [],
   "source": [
    "# esto nos devuelve una sparce matriz\n",
    "tfv_matrix = tfv.fit_transform(df_tmp_1[\"text_\"])"
   ]
  },
  {
   "cell_type": "code",
   "execution_count": 45,
   "id": "approximate-happiness",
   "metadata": {},
   "outputs": [
    {
     "data": {
      "text/plain": [
       "<20x15 sparse matrix of type '<class 'numpy.float64'>'\n",
       "\twith 92 stored elements in Compressed Sparse Row format>"
      ]
     },
     "execution_count": 45,
     "metadata": {},
     "output_type": "execute_result"
    }
   ],
   "source": [
    "tfv_matrix"
   ]
  },
  {
   "cell_type": "code",
   "execution_count": 46,
   "id": "double-storm",
   "metadata": {},
   "outputs": [
    {
     "data": {
      "text/plain": [
       "(20, 15)"
      ]
     },
     "execution_count": 46,
     "metadata": {},
     "output_type": "execute_result"
    }
   ],
   "source": [
    "tfv_matrix.shape"
   ]
  },
  {
   "cell_type": "code",
   "execution_count": 47,
   "id": "daily-combining",
   "metadata": {},
   "outputs": [],
   "source": [
    "from sklearn.metrics.pairwise import sigmoid_kernel\n",
    "# sigmoid transform the input in 0 or 1\n",
    "# en este caso la salida de la sigmoide(probability) me indica que tan cercano seran dos overviews\n",
    "\n",
    "# Compute the sigmoid kernel\n",
    "\n",
    "sig = sigmoid_kernel(tfv_matrix, tfv_matrix)"
   ]
  },
  {
   "cell_type": "code",
   "execution_count": 48,
   "id": "valid-conjunction",
   "metadata": {},
   "outputs": [
    {
     "data": {
      "text/plain": [
       "array([[0.78820208, 0.78508383, 0.78111349, 0.77342108, 0.76898297,\n",
       "        0.77342108, 0.76898297, 0.77342108, 0.76159416, 0.77342108,\n",
       "        0.77877012, 0.76159416, 0.76898297, 0.77342108, 0.77342108,\n",
       "        0.76898297, 0.76159416, 0.76898297, 0.76898297, 0.77877012],\n",
       "       [0.78508383, 0.78820208, 0.77879604, 0.77199788, 0.76808716,\n",
       "        0.77199788, 0.76808716, 0.77199788, 0.76159416, 0.77199788,\n",
       "        0.77672236, 0.76159416, 0.77818889, 0.77199788, 0.77199788,\n",
       "        0.76808716, 0.76159416, 0.77818889, 0.76808716, 0.77672236],\n",
       "       [0.78111349, 0.77879604, 0.78820208, 0.76159416, 0.76159416,\n",
       "        0.76159416, 0.76688744, 0.76159416, 0.77645455, 0.76159416,\n",
       "        0.7699112 , 0.77468482, 0.76159416, 0.76159416, 0.76159416,\n",
       "        0.76159416, 0.77645455, 0.76159416, 0.76159416, 0.7699112 ],\n",
       "       [0.77342108, 0.77199788, 0.76159416, 0.78820208, 0.77840206,\n",
       "        0.78820208, 0.77840206, 0.78820208, 0.76159416, 0.78820208,\n",
       "        0.78002541, 0.76159416, 0.77840206, 0.78820208, 0.78820208,\n",
       "        0.77840206, 0.76159416, 0.77840206, 0.77840206, 0.78002541],\n",
       "       [0.76898297, 0.76808716, 0.76159416, 0.77840206, 0.78820208,\n",
       "        0.77840206, 0.77213318, 0.77840206, 0.76159416, 0.77840206,\n",
       "        0.773165  , 0.76159416, 0.77213318, 0.77840206, 0.77840206,\n",
       "        0.78820208, 0.76159416, 0.77213318, 0.78820208, 0.773165  ],\n",
       "       [0.77342108, 0.77199788, 0.76159416, 0.78820208, 0.77840206,\n",
       "        0.78820208, 0.77840206, 0.78820208, 0.76159416, 0.78820208,\n",
       "        0.78002541, 0.76159416, 0.77840206, 0.78820208, 0.78820208,\n",
       "        0.77840206, 0.76159416, 0.77840206, 0.77840206, 0.78002541],\n",
       "       [0.76898297, 0.76808716, 0.76688744, 0.77840206, 0.77213318,\n",
       "        0.77840206, 0.78820208, 0.77840206, 0.76159416, 0.77840206,\n",
       "        0.773165  , 0.78010554, 0.77213318, 0.77840206, 0.77840206,\n",
       "        0.77213318, 0.76159416, 0.77213318, 0.77213318, 0.773165  ],\n",
       "       [0.77342108, 0.77199788, 0.76159416, 0.78820208, 0.77840206,\n",
       "        0.78820208, 0.77840206, 0.78820208, 0.76159416, 0.78820208,\n",
       "        0.78002541, 0.76159416, 0.77840206, 0.78820208, 0.78820208,\n",
       "        0.77840206, 0.76159416, 0.77840206, 0.77840206, 0.78002541],\n",
       "       [0.76159416, 0.76159416, 0.77645455, 0.76159416, 0.76159416,\n",
       "        0.76159416, 0.76159416, 0.76159416, 0.78820208, 0.76159416,\n",
       "        0.76159416, 0.77495555, 0.76159416, 0.76159416, 0.76159416,\n",
       "        0.76159416, 0.78820208, 0.76159416, 0.76159416, 0.76159416],\n",
       "       [0.77342108, 0.77199788, 0.76159416, 0.78820208, 0.77840206,\n",
       "        0.78820208, 0.77840206, 0.78820208, 0.76159416, 0.78820208,\n",
       "        0.78002541, 0.76159416, 0.77840206, 0.78820208, 0.78820208,\n",
       "        0.77840206, 0.76159416, 0.77840206, 0.77840206, 0.78002541],\n",
       "       [0.77877012, 0.77672236, 0.7699112 , 0.78002541, 0.773165  ,\n",
       "        0.78002541, 0.773165  , 0.78002541, 0.76159416, 0.78002541,\n",
       "        0.78820208, 0.76159416, 0.773165  , 0.78002541, 0.78002541,\n",
       "        0.773165  , 0.76159416, 0.773165  , 0.773165  , 0.78820208],\n",
       "       [0.76159416, 0.76159416, 0.77468482, 0.76159416, 0.76159416,\n",
       "        0.76159416, 0.78010554, 0.76159416, 0.77495555, 0.76159416,\n",
       "        0.76159416, 0.78820208, 0.76159416, 0.76159416, 0.76159416,\n",
       "        0.76159416, 0.77495555, 0.76159416, 0.76159416, 0.76159416],\n",
       "       [0.76898297, 0.77818889, 0.76159416, 0.77840206, 0.77213318,\n",
       "        0.77840206, 0.77213318, 0.77840206, 0.76159416, 0.77840206,\n",
       "        0.773165  , 0.76159416, 0.78820208, 0.77840206, 0.77840206,\n",
       "        0.77213318, 0.76159416, 0.78820208, 0.77213318, 0.773165  ],\n",
       "       [0.77342108, 0.77199788, 0.76159416, 0.78820208, 0.77840206,\n",
       "        0.78820208, 0.77840206, 0.78820208, 0.76159416, 0.78820208,\n",
       "        0.78002541, 0.76159416, 0.77840206, 0.78820208, 0.78820208,\n",
       "        0.77840206, 0.76159416, 0.77840206, 0.77840206, 0.78002541],\n",
       "       [0.77342108, 0.77199788, 0.76159416, 0.78820208, 0.77840206,\n",
       "        0.78820208, 0.77840206, 0.78820208, 0.76159416, 0.78820208,\n",
       "        0.78002541, 0.76159416, 0.77840206, 0.78820208, 0.78820208,\n",
       "        0.77840206, 0.76159416, 0.77840206, 0.77840206, 0.78002541],\n",
       "       [0.76898297, 0.76808716, 0.76159416, 0.77840206, 0.78820208,\n",
       "        0.77840206, 0.77213318, 0.77840206, 0.76159416, 0.77840206,\n",
       "        0.773165  , 0.76159416, 0.77213318, 0.77840206, 0.77840206,\n",
       "        0.78820208, 0.76159416, 0.77213318, 0.78820208, 0.773165  ],\n",
       "       [0.76159416, 0.76159416, 0.77645455, 0.76159416, 0.76159416,\n",
       "        0.76159416, 0.76159416, 0.76159416, 0.78820208, 0.76159416,\n",
       "        0.76159416, 0.77495555, 0.76159416, 0.76159416, 0.76159416,\n",
       "        0.76159416, 0.78820208, 0.76159416, 0.76159416, 0.76159416],\n",
       "       [0.76898297, 0.77818889, 0.76159416, 0.77840206, 0.77213318,\n",
       "        0.77840206, 0.77213318, 0.77840206, 0.76159416, 0.77840206,\n",
       "        0.773165  , 0.76159416, 0.78820208, 0.77840206, 0.77840206,\n",
       "        0.77213318, 0.76159416, 0.78820208, 0.77213318, 0.773165  ],\n",
       "       [0.76898297, 0.76808716, 0.76159416, 0.77840206, 0.78820208,\n",
       "        0.77840206, 0.77213318, 0.77840206, 0.76159416, 0.77840206,\n",
       "        0.773165  , 0.76159416, 0.77213318, 0.77840206, 0.77840206,\n",
       "        0.78820208, 0.76159416, 0.77213318, 0.78820208, 0.773165  ],\n",
       "       [0.77877012, 0.77672236, 0.7699112 , 0.78002541, 0.773165  ,\n",
       "        0.78002541, 0.773165  , 0.78002541, 0.76159416, 0.78002541,\n",
       "        0.78820208, 0.76159416, 0.773165  , 0.78002541, 0.78002541,\n",
       "        0.773165  , 0.76159416, 0.773165  , 0.773165  , 0.78820208]])"
      ]
     },
     "execution_count": 48,
     "metadata": {},
     "output_type": "execute_result"
    }
   ],
   "source": [
    "# matriz  de probabilidades(similaridades)\n",
    "# sigmoide \n",
    "sig"
   ]
  },
  {
   "cell_type": "code",
   "execution_count": 49,
   "id": "protected-glenn",
   "metadata": {},
   "outputs": [
    {
     "data": {
      "text/plain": [
       "array([0.78820208, 0.78508383, 0.78111349, 0.77342108, 0.76898297,\n",
       "       0.77342108, 0.76898297, 0.77342108, 0.76159416, 0.77342108,\n",
       "       0.77877012, 0.76159416, 0.76898297, 0.77342108, 0.77342108,\n",
       "       0.76898297, 0.76159416, 0.76898297, 0.76898297, 0.77877012])"
      ]
     },
     "execution_count": 49,
     "metadata": {},
     "output_type": "execute_result"
    }
   ],
   "source": [
    "# sig =sigmoide\n",
    "# example summary 1 related wit summary 1, summary 2, summary 3 ....\n",
    "sig[0]"
   ]
  },
  {
   "cell_type": "code",
   "execution_count": 50,
   "id": "satisfied-logging",
   "metadata": {},
   "outputs": [
    {
     "data": {
      "text/plain": [
       "Int64Index([20, 30, 23, 24, 25, 26, 27, 28, 29, 31, 21, 32, 33, 34, 35, 36, 37,\n",
       "            38, 22, 39],\n",
       "           dtype='int64')"
      ]
     },
     "execution_count": 50,
     "metadata": {},
     "output_type": "execute_result"
    }
   ],
   "source": [
    "df_tmp_1.index"
   ]
  },
  {
   "cell_type": "code",
   "execution_count": 51,
   "id": "understanding-theme",
   "metadata": {},
   "outputs": [],
   "source": [
    "#Reverse mapping of indices and movie titles\n",
    "\n",
    "\n",
    "indices = pd.Series(df_tmp_1.index, index = df_tmp_1[\"title\"]).drop_duplicates()"
   ]
  },
  {
   "cell_type": "code",
   "execution_count": 52,
   "id": "imported-presentation",
   "metadata": {},
   "outputs": [
    {
     "data": {
      "text/plain": [
       "title\n",
       "Business Review of 2021: Climate change and Covid                20\n",
       "Young climate activists snub 'hypocritical' award                30\n",
       "Understanding climate change and Wales' future                   23\n",
       "Miners experiment with hydrogen to power giant trucks            24\n",
       "Bumper funding rise for Welsh NHS amid backlog                   25\n",
       "Calls for 'reasoned debate' over oil and gas future              26\n",
       "Sea defences 'in various states of disrepair'                    27\n",
       "How can renters make their homes warmer and greener?             28\n",
       "Extreme E 'really exciting' right now - Button                   29\n",
       "Carbon neutral pledge poses 'financial challenge'                31\n",
       "'We fight climate denial on Wikipedia'                           21\n",
       "Climate change: New York bill bans natural gas for new builds    32\n",
       "COP Cymru events costly failure, say Welsh Tories                33\n",
       "The teenagers and the nun fighting a coal mine                   34\n",
       "Climate activists vow to continue breaking law                   35\n",
       "Arctic heat record is like Mediterranean, says UN                36\n",
       "How to make electricity for your neighbours                      37\n",
       "Antarctic glacier heading for dramatic change                    38\n",
       "Consultation launched on future agricultural policy              22\n",
       "Are deadly US tornadoes due to climate change?                   39\n",
       "dtype: int64"
      ]
     },
     "execution_count": 52,
     "metadata": {},
     "output_type": "execute_result"
    }
   ],
   "source": [
    "indices"
   ]
  },
  {
   "cell_type": "code",
   "execution_count": 63,
   "id": "mysterious-pasta",
   "metadata": {},
   "outputs": [
    {
     "data": {
      "text/plain": [
       "0"
      ]
     },
     "execution_count": 63,
     "metadata": {},
     "output_type": "execute_result"
    }
   ],
   "source": [
    "indices[\"How to make electricity for your neighbours\"]\n",
    "# unique_title_indices = list(set(indices.tolist()))\n",
    "\n",
    "# unique_title_indices\n",
    "indices_2 = indices -20\n",
    "\n",
    "indices_2[\"Business Review of 2021: Climate change and Covid\"]"
   ]
  },
  {
   "cell_type": "code",
   "execution_count": 64,
   "id": "persistent-prevention",
   "metadata": {},
   "outputs": [
    {
     "data": {
      "text/plain": [
       "17"
      ]
     },
     "execution_count": 64,
     "metadata": {},
     "output_type": "execute_result"
    }
   ],
   "source": [
    "indices_2[\"How to make electricity for your neighbours\"]"
   ]
  },
  {
   "cell_type": "code",
   "execution_count": 61,
   "id": "ahead-arrow",
   "metadata": {},
   "outputs": [
    {
     "data": {
      "text/plain": [
       "[(0, 0.768982972070534),\n",
       " (1, 0.778188889389498),\n",
       " (2, 0.7615941559557649),\n",
       " (3, 0.7784020563396297),\n",
       " (4, 0.7721331779050117),\n",
       " (5, 0.7784020563396297),\n",
       " (6, 0.7721331779050117),\n",
       " (7, 0.7784020563396297),\n",
       " (8, 0.7615941559557649),\n",
       " (9, 0.7784020563396297),\n",
       " (10, 0.7731649990732228),\n",
       " (11, 0.7615941559557649),\n",
       " (12, 0.7882020755281642),\n",
       " (13, 0.7784020563396297),\n",
       " (14, 0.7784020563396297),\n",
       " (15, 0.7721331779050117),\n",
       " (16, 0.7615941559557649),\n",
       " (17, 0.7882020755281642),\n",
       " (18, 0.7721331779050117),\n",
       " (19, 0.7731649990732228)]"
      ]
     },
     "execution_count": 61,
     "metadata": {},
     "output_type": "execute_result"
    }
   ],
   "source": [
    "list(enumerate(sig[indices_2[\"How to make electricity for your neighbours\"]]))"
   ]
  },
  {
   "cell_type": "code",
   "execution_count": 65,
   "id": "little-liberty",
   "metadata": {},
   "outputs": [],
   "source": [
    "# Reverse mapping of indices and movie titles"
   ]
  },
  {
   "cell_type": "code",
   "execution_count": 66,
   "id": "sound-bankruptcy",
   "metadata": {},
   "outputs": [],
   "source": [
    "def give_rec(title, sig=sig):\n",
    "    # Get the index corresponding to original title\n",
    "    idx = indices_2[title]\n",
    "    \n",
    "    \n",
    "    # Get the pairwise similarity scores\n",
    "    \n",
    "    sig_scores = list(enumerate(sig[idx]))\n",
    "    \n",
    "    # sort the movies\n",
    "    \n",
    "    sig_scores = sorted(sig_scores, key= lambda x: x[1], reverse=True)\n",
    "    \n",
    "    # Scores of the 10 most similar movies\n",
    "    sig_scores = sig_scores[1:11]\n",
    "    \n",
    "    # list comprehension\n",
    "    news_indices = [i[0] for i in sig_scores]\n",
    "    \n",
    "    \n",
    "    # Top 10 most similar movies\n",
    "    \n",
    "    return df_tmp_1[\"title\"].iloc[news_indices]"
   ]
  },
  {
   "cell_type": "code",
   "execution_count": 67,
   "id": "funky-start",
   "metadata": {},
   "outputs": [
    {
     "data": {
      "text/plain": [
       "30    Young climate activists snub 'hypocritical' award\n",
       "23       Understanding climate change and Wales' future\n",
       "21               'We fight climate denial on Wikipedia'\n",
       "39       Are deadly US tornadoes due to climate change?\n",
       "24    Miners experiment with hydrogen to power giant...\n",
       "26    Calls for 'reasoned debate' over oil and gas f...\n",
       "28    How can renters make their homes warmer and gr...\n",
       "31    Carbon neutral pledge poses 'financial challenge'\n",
       "34       The teenagers and the nun fighting a coal mine\n",
       "35       Climate activists vow to continue breaking law\n",
       "Name: title, dtype: object"
      ]
     },
     "execution_count": 67,
     "metadata": {},
     "output_type": "execute_result"
    }
   ],
   "source": [
    "# testing our content based recomendation system with seminal fil = Spy Kids\n",
    "\n",
    "give_rec('Business Review of 2021: Climate change and Covid')"
   ]
  },
  {
   "cell_type": "code",
   "execution_count": null,
   "id": "apparent-religion",
   "metadata": {},
   "outputs": [],
   "source": []
  }
 ],
 "metadata": {
  "kernelspec": {
   "display_name": "Python 3",
   "language": "python",
   "name": "python3"
  },
  "language_info": {
   "codemirror_mode": {
    "name": "ipython",
    "version": 3
   },
   "file_extension": ".py",
   "mimetype": "text/x-python",
   "name": "python",
   "nbconvert_exporter": "python",
   "pygments_lexer": "ipython3",
   "version": "3.9.1"
  }
 },
 "nbformat": 4,
 "nbformat_minor": 5
}
